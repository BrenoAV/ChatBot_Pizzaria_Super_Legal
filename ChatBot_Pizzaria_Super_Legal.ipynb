{
  "nbformat": 4,
  "nbformat_minor": 0,
  "metadata": {
    "colab": {
      "provenance": [],
      "authorship_tag": "ABX9TyNjuYAVM4xJoFLl79Y5a8CA",
      "include_colab_link": true
    },
    "kernelspec": {
      "name": "python3",
      "display_name": "Python 3"
    },
    "language_info": {
      "name": "python"
    }
  },
  "cells": [
    {
      "cell_type": "markdown",
      "metadata": {
        "id": "view-in-github",
        "colab_type": "text"
      },
      "source": [
        "<a href=\"https://colab.research.google.com/github/BrenoAV/ChatBot_Pizzaria_Super_Legal/blob/main/ChatBot_Pizzaria_Super_Legal.ipynb\" target=\"_parent\"><img src=\"https://colab.research.google.com/assets/colab-badge.svg\" alt=\"Open In Colab\"/></a>"
      ]
    },
    {
      "cell_type": "markdown",
      "source": [
        "# ChatBot da Pizzaria Super Legal 🍕😊👍\n",
        "\n",
        "ChatBot criado para competição da **Imersão de IA da Alura 2° Edição** com parceria com o Google utilizando o Gemini como IA Generativa.\n",
        "\n",
        "**Autor:** BrenoAV\n",
        "\n",
        "**Última de vez modificado:** 5/11/2024\n",
        "\n",
        "# Sumário:\n",
        "\n",
        "* 1. Instalação de depedências\n",
        "* 2. Importando as principais bibliotecas\n",
        "* 3. Documentos\n",
        "* 4. Modelo Generativo\n",
        "* 5. Exemplos\n",
        "    *   5.1 Texto\n",
        "    *   5.2 Audio"
      ],
      "metadata": {
        "id": "qZQcM9pV-nxv"
      }
    },
    {
      "cell_type": "markdown",
      "source": [
        "# 1. Instalação de depedências"
      ],
      "metadata": {
        "id": "u8s1AyOo_uJH"
      }
    },
    {
      "cell_type": "code",
      "source": [
        "!pip install -q -U google-generativeai"
      ],
      "metadata": {
        "id": "P9FPzPRzC_9U"
      },
      "execution_count": 1,
      "outputs": []
    },
    {
      "cell_type": "markdown",
      "source": [
        "# 2. Importando as principais bibliotecas\n",
        "\n",
        "A biblioteca Pytz e datetime serão usadas para obter o dia atual no Brasil e verificar se é um dia de promoção da **Pizzaria Super Legal** 🍕😊👍"
      ],
      "metadata": {
        "id": "3HJuilqJADTJ"
      }
    },
    {
      "cell_type": "code",
      "execution_count": 2,
      "metadata": {
        "id": "maMQKX3g9h0N"
      },
      "outputs": [],
      "source": [
        "from datetime import datetime\n",
        "import pytz\n",
        "import numpy as np\n",
        "from numpy.linalg import norm\n",
        "import pandas as pd\n",
        "import google.generativeai as genai\n",
        "from google.colab import userdata\n",
        "import textwrap\n",
        "\n",
        "GEMINI_KEY = userdata.get(\"GEMINI_KEY\")\n",
        "\n",
        "# Configurando a API KEY usando o valor vindo do `Secrets`\n",
        "genai.configure(api_key=GEMINI_KEY)\n",
        "\n",
        "# Definindo o fuso horário para o Brasil da biblioteca datetime do Python\n",
        "date = datetime.now(pytz.timezone('America/Recife'))"
      ]
    },
    {
      "cell_type": "markdown",
      "source": [
        "Código para listar todos os modelos de geração de conteúdo que poderão ser usados no ChatBot. Eu optei por escolher o `gemini-1.5-pro`"
      ],
      "metadata": {
        "id": "k2ctu0JHe7do"
      }
    },
    {
      "cell_type": "code",
      "source": [
        "for m in genai.list_models():\n",
        "    if \"generateContent\" in m.supported_generation_methods:\n",
        "        print(m.name)"
      ],
      "metadata": {
        "colab": {
          "base_uri": "https://localhost:8080/",
          "height": 142
        },
        "id": "nPCa75hdfAug",
        "outputId": "e53a0597-f518-4463-e00e-67110d64ba48"
      },
      "execution_count": 3,
      "outputs": [
        {
          "output_type": "stream",
          "name": "stdout",
          "text": [
            "models/gemini-1.0-pro\n",
            "models/gemini-1.0-pro-001\n",
            "models/gemini-1.0-pro-latest\n",
            "models/gemini-1.0-pro-vision-latest\n",
            "models/gemini-1.5-pro-latest\n",
            "models/gemini-pro\n",
            "models/gemini-pro-vision\n"
          ]
        }
      ]
    },
    {
      "cell_type": "markdown",
      "source": [
        "# 3. Documentos\n",
        "\n",
        "Aqui vem os documentos referentes da pizzaria, nesse caso estou usando simplesmente o cardápio da pizzaria com informações de promoções. Poderiam ter mais documentos e fazer um 'embedding' deles para realizar uma pesquisa semântica (Aula 5) retornando, incialmente, os documentos com valor semântico próximo para depois ser iniciado o chatbot com esse contexto.\n",
        "\n",
        "O cardápio é curto para não exceder o limite gratuito da API Gemini. Consiste de valores diferentes para pizzas tradicionais, pizzas especiais, pizzas doces e bebidas. Ao final, se tem uma promoção que a gestão colocou para certos dias da semana."
      ],
      "metadata": {
        "id": "NizJMlNMfC3b"
      }
    },
    {
      "cell_type": "code",
      "source": [
        "doc_menu = \"\"\"Cardápio da pizzaria super legal com todos os valores de pizzas e bebidas disponíveis na pizzaria.\n",
        "\n",
        "# Pizzas Tradicionais\n",
        "\n",
        "Preços das pizzas tradicionais:\n",
        "  - R$ 20,00 (Pequena - P)\n",
        "  - R$ 30,00 (Média - M)\n",
        "  - R$ 40,00 (Grande - G)\n",
        "\n",
        "01. Mussarela - Molho, mussarela, tomate, orégano e azeitona.\n",
        "02. Dois queijos - Molho, mussarela, catupiry, orégano e azeitona.\n",
        "03. Frango - Molho, frango, mussarela, milho, orégano e azeitona.\n",
        "04. Vegetariana - Molho, milho, ervilha, cebola, tomate, palmito, brócolis, mussarela, orégano e azeitona.\n",
        "05. Nordestina - Molho, carne cebola, mussarela, orégano e azeitona.\n",
        "06. Calabresa - Molho, calabresa, bacon, orégano e azeitona.\n",
        "07. Portuguesa - Molho, presunto, cebola, ervilha, ovos, mussarela, orégano e azeitona.\n",
        "08. Baiana - Molho, calabresa, ovos, pimenta, cebola, mussarela, orégano e azeitona.\n",
        "\n",
        "# Pizzas Especiais\n",
        "\n",
        "Preços das pizzas especiais:\n",
        "  - R$ 25,00 (Pequena - P)\n",
        "  - R$ 35,00 (Média - M)\n",
        "  - R$ 45,00 (Grande - G)\n",
        "\n",
        "01. Camarão - Molho, camarão, mussarela, catupiry, orégano e azeitona.\n",
        "02. Peru - Molho, peito de peru, mussarela, catupiry, orégano e azeitona.\n",
        "03. Brasileira - Molho, peito de peru, parmesão, creme cheese, mussarela, bacon, orégano e azeitona.\n",
        "\n",
        "# Pizzas Doces\n",
        "\n",
        "Preços das pizzas doces:\n",
        "  - R$ 25,00 (Pequena - P)\n",
        "  - R$ 35,00 (Média - M)\n",
        "  - R$ 45,00 (Grande - G)\n",
        "\n",
        "01. Sonho de Valsa - Bombons, creme de leite, leite condensado e cereja.\n",
        "02. Brigadeiro - Chocolate, granulado, leite condensado e cereja.\n",
        "03. Chocovalsa - Chocolate, bombons, leite condensado, creme de leite e cereja.\n",
        "\n",
        "# Bebidas\n",
        "\n",
        "01. Água (R$ 2,00)\n",
        "02. Refrigerante Lata (R$ 5,00)\n",
        "03. Refrigerante 1L (R$ 8,00)\n",
        "04. Refrigerante 2L (R$ 12,00)\n",
        "05. Suco 600 mL (R$ 5,00)\n",
        "\n",
        "# Promoções das Pizzas\n",
        "\n",
        "Promoção: Nas sexta-feiras, sábado e domingo as pizzas tradicionais de Frango e Calabresa estão com um desconto de 30% para todos os tamanhos\n",
        "\n",
        "\"\"\""
      ],
      "metadata": {
        "id": "1VYWEGfQzt9u"
      },
      "execution_count": 4,
      "outputs": []
    },
    {
      "cell_type": "markdown",
      "source": [
        "# 4. Modelo Generativo (gemini-1.5-pro-latest)\n",
        "\n",
        "O modelo utilizado será o `gemini-1.5-pro-latest`, porque a versão `gemini-1.0-pro` não estava aceitado o parâmetro `system_instruction` ainda. Como configurações da geração (`generation_config`) foi usado um `temperature` com um valor baixo de `0.1` para que o modelo seja preciso/conservador por se tratar de informar ao cliente o seu pedido final e valor da compra.\n",
        "\n",
        "Como `system_instructions` foi informado ao modelo agir como um atendente de uma pizzaria, a data de hoje (maneira dinâmica) para possíveis promoções, não fornecer nada que esteja fora do escopo da pizzaria, o cliente precisa informar a pizza desejada com o seu tamanho para ser cobrado propriamente e quando finalizar o pedido informar na última linha `fim do pedido` que será usado para finalizar o chat.\n"
      ],
      "metadata": {
        "id": "dcgm2Ze-CNky"
      }
    },
    {
      "cell_type": "code",
      "source": [
        "generation_config = {\n",
        "    \"temperature\": 0.1,\n",
        "    \"candidate_count\": 1\n",
        "}\n",
        "\n",
        "gen_model = genai.GenerativeModel(\n",
        "    model_name=\"gemini-1.5-pro-latest\",\n",
        "    generation_config=generation_config,\n",
        "    system_instruction=[\"Aja como um antendente expert de uma pizzaria\",\n",
        "                        f\"A data de hoje é {date.date().strftime('%A')}\",\n",
        "                        \"Não forneça nenhuma informação que não esteja no contexto da pizzaria, por exemplo, inventar novos tamanhos de pizzas ou inventar novos sabores de pizza.\",\n",
        "                        \"Aplique os possíveis descontos das promoções da pizzaria e informe na resposta final o que teve desconto (se aplicável).\",\n",
        "                        \"Responda quebrando linhas de no máximo 80 caracters e discrimine todos os valores.\"\n",
        "                        \"Quando finalizar o pedido simplesmente retorne na última linha: fim do pedido\"\n",
        "                        ]\n",
        ")\n"
      ],
      "metadata": {
        "id": "8dHG8GRTqcC9"
      },
      "execution_count": 22,
      "outputs": []
    },
    {
      "cell_type": "markdown",
      "source": [
        "Foi criado uma função chamada `start_chatbot_pizzaria` que recebe o contexto da pizzaria (no nosso caso o cardápio) e inicia uma sessão de chat onde o cliente poderá fazer seu pedido e receber o valor a ser pago para dar continuidade ao processo.\n",
        "\n",
        "Existem duas modalidades a serem usadas:\n",
        "    \n",
        "- texto\n",
        "- audio (nesse caso será apenas usado o áudio sem histórico do chatbot)\n"
      ],
      "metadata": {
        "id": "73F5QZExdcUR"
      }
    },
    {
      "cell_type": "code",
      "source": [
        "from typing import Union\n",
        "\n",
        "def start_chatbot_pizzaria(context: str,\n",
        "                           modo: bool = \"texto\",\n",
        "                           audio_diretorio: str = \"\") -> None:\n",
        "    if modo == \"texto\":\n",
        "        chatbot_pizzaria = gen_model.start_chat(history=[])\n",
        "\n",
        "        pedido = input(\"Por favor, informe seu pedido (digite 'sair' para finalizar o antendimento)\\nComando: \")\n",
        "        fim_do_pedido = None\n",
        "\n",
        "        while True:\n",
        "            prompt = (\"O contexto da pizzaria é:\\n\\n\"\n",
        "                    \"---\"\n",
        "                    f\"{context}\\n\\n\"\n",
        "                    \"---\"\n",
        "                    f\"Cliente: {pedido}\\n\"\n",
        "                    )\n",
        "            response = chatbot_pizzaria.send_message(prompt)\n",
        "            print(\"ChatBot:\\n\\n\", response.text)\n",
        "            print(\"-\"*60)\n",
        "            fim_do_pedido = response.text.split(\"\\n\")[-2]\n",
        "            if fim_do_pedido == \"fim do pedido\":\n",
        "                break\n",
        "            pedido = input(\"Comando: \")\n",
        "            print(\"-\"*60)\n",
        "            if pedido.lower().strip() == \"sair\":\n",
        "                break\n",
        "    elif modo == \"audio\":\n",
        "\n",
        "        audio_file = genai.upload_file(path=audio_diretorio)\n",
        "        prompt = (\"O contexto da pizzaria é:\\n\"\n",
        "                f\"{context}\\n\"\n",
        "                \"Forneça o resumo do pedido discriminado. Baseado no áudio.\")\n",
        "\n",
        "        response = gen_model.generate_content([prompt, audio_file])\n",
        "        print(\"ChatBot:\\n\", response.text)\n",
        "\n",
        "\n"
      ],
      "metadata": {
        "id": "tzobXxgbsMsW"
      },
      "execution_count": 25,
      "outputs": []
    },
    {
      "cell_type": "markdown",
      "source": [
        "# 5. Exemplos\n",
        "\n",
        "Segue alguns exemplos usando o modo texto e modo áudio do ChatBot"
      ],
      "metadata": {
        "id": "NLrjB7tYERjw"
      }
    },
    {
      "cell_type": "markdown",
      "source": [
        "# 5.1 Textos"
      ],
      "metadata": {
        "id": "yQdJ-B9oHo57"
      }
    },
    {
      "cell_type": "code",
      "source": [
        "start_chatbot_pizzaria(context=doc_menu, modo=\"texto\")"
      ],
      "metadata": {
        "colab": {
          "base_uri": "https://localhost:8080/",
          "height": 339
        },
        "id": "lIPHf0XJH1tc",
        "outputId": "41fd38b0-e858-4ffd-cee4-384a2611c11a"
      },
      "execution_count": 26,
      "outputs": [
        {
          "output_type": "stream",
          "name": "stdout",
          "text": [
            "Por favor, informe seu pedido (digite 'sair' para finalizar o antendimento)\n",
            "Comando: Boa noite! Gostaria de uma pizza grande portuguesa e uma pizza média de brigadeiro\n",
            "ChatBot:\n",
            "\n",
            " Boa noite! Anotei a pizza grande portuguesa.\n",
            "E a pizza média de brigadeiro.\n",
            "Mais alguma coisa?\n",
            "\n",
            "------------------------------------------------------------\n",
            "Comando: Apenas isso\n",
            "------------------------------------------------------------\n",
            "ChatBot:\n",
            "\n",
            " Ok, uma pizza grande portuguesa e uma pizza média de brigadeiro.\n",
            "O total é R$ 75,00.\n",
            "fim do pedido\n",
            "\n",
            "------------------------------------------------------------\n"
          ]
        }
      ]
    },
    {
      "cell_type": "code",
      "source": [
        "start_chatbot_pizzaria(context=doc_menu, modo=\"texto\")"
      ],
      "metadata": {
        "colab": {
          "base_uri": "https://localhost:8080/",
          "height": 517
        },
        "id": "pXiSF_0zJhi-",
        "outputId": "a27f26d9-6a5b-4d52-f781-05d50f710a08"
      },
      "execution_count": 27,
      "outputs": [
        {
          "output_type": "stream",
          "name": "stdout",
          "text": [
            "Por favor, informe seu pedido (digite 'sair' para finalizar o antendimento)\n",
            "Comando: Gostaria de uma pizza de calabresa e um refrigerante de 2L para viagem\n",
            "ChatBot:\n",
            "\n",
            " Boa noite! Qual o tamanho da pizza? \n",
            "Pequena, média ou grande?\n",
            "\n",
            "------------------------------------------------------------\n",
            "Comando: média\n",
            "------------------------------------------------------------\n",
            "ChatBot:\n",
            "\n",
            " Certo, uma pizza de calabresa média e um refrigerante de 2L, correto?\n",
            "\n",
            "\n",
            "\n",
            "------------------------------------------------------------\n",
            "Comando: correto, apenas isso meu pedido\n",
            "------------------------------------------------------------\n",
            "ChatBot:\n",
            "\n",
            " Perfeito! O valor total do seu pedido é R$ 20,40, já \n",
            "incluso o desconto de 30% na pizza de calabresa.\n",
            "\n",
            "Desconto de R$ 9,60 na pizza de calabresa.\n",
            "fim do pedido\n",
            "\n",
            "------------------------------------------------------------\n"
          ]
        }
      ]
    },
    {
      "cell_type": "markdown",
      "source": [
        "## 5.2 Áudios"
      ],
      "metadata": {
        "id": "og7X--orftHl"
      }
    },
    {
      "cell_type": "code",
      "source": [
        "# Baixando os dois áudios de teste\n",
        "\n",
        "!wget https://github.com/BrenoAV/ChatBot_Pizzaria_Super_Legal/raw/main/audios/pedido-1.m4a\n",
        "!wget https://github.com/BrenoAV/ChatBot_Pizzaria_Super_Legal/raw/main/audios/pedido-2.m4a"
      ],
      "metadata": {
        "colab": {
          "base_uri": "https://localhost:8080/"
        },
        "id": "E9RrDr8kHoC_",
        "outputId": "766bc22c-82d4-42f8-f561-961815c047c7"
      },
      "execution_count": 28,
      "outputs": [
        {
          "output_type": "stream",
          "name": "stdout",
          "text": [
            "--2024-05-11 10:22:04--  https://github.com/BrenoAV/ChatBot_Pizzaria_Super_Legal/raw/main/audios/pedido-1.m4a\n",
            "Resolving github.com (github.com)... 140.82.112.3\n",
            "Connecting to github.com (github.com)|140.82.112.3|:443... connected.\n",
            "HTTP request sent, awaiting response... 302 Found\n",
            "Location: https://raw.githubusercontent.com/BrenoAV/ChatBot_Pizzaria_Super_Legal/main/audios/pedido-1.m4a [following]\n",
            "--2024-05-11 10:22:04--  https://raw.githubusercontent.com/BrenoAV/ChatBot_Pizzaria_Super_Legal/main/audios/pedido-1.m4a\n",
            "Resolving raw.githubusercontent.com (raw.githubusercontent.com)... 185.199.108.133, 185.199.109.133, 185.199.110.133, ...\n",
            "Connecting to raw.githubusercontent.com (raw.githubusercontent.com)|185.199.108.133|:443... connected.\n",
            "HTTP request sent, awaiting response... 200 OK\n",
            "Length: 120803 (118K) [audio/mp4]\n",
            "Saving to: ‘pedido-1.m4a’\n",
            "\n",
            "\rpedido-1.m4a          0%[                    ]       0  --.-KB/s               \rpedido-1.m4a        100%[===================>] 117.97K  --.-KB/s    in 0.004s  \n",
            "\n",
            "2024-05-11 10:22:04 (31.4 MB/s) - ‘pedido-1.m4a’ saved [120803/120803]\n",
            "\n",
            "--2024-05-11 10:22:04--  https://github.com/BrenoAV/ChatBot_Pizzaria_Super_Legal/raw/main/audios/pedido-2.m4a\n",
            "Resolving github.com (github.com)... 140.82.114.3\n",
            "Connecting to github.com (github.com)|140.82.114.3|:443... connected.\n",
            "HTTP request sent, awaiting response... 302 Found\n",
            "Location: https://raw.githubusercontent.com/BrenoAV/ChatBot_Pizzaria_Super_Legal/main/audios/pedido-2.m4a [following]\n",
            "--2024-05-11 10:22:04--  https://raw.githubusercontent.com/BrenoAV/ChatBot_Pizzaria_Super_Legal/main/audios/pedido-2.m4a\n",
            "Resolving raw.githubusercontent.com (raw.githubusercontent.com)... 185.199.108.133, 185.199.109.133, 185.199.110.133, ...\n",
            "Connecting to raw.githubusercontent.com (raw.githubusercontent.com)|185.199.108.133|:443... connected.\n",
            "HTTP request sent, awaiting response... 200 OK\n",
            "Length: 154788 (151K) [audio/mp4]\n",
            "Saving to: ‘pedido-2.m4a’\n",
            "\n",
            "pedido-2.m4a        100%[===================>] 151.16K  --.-KB/s    in 0.003s  \n",
            "\n",
            "2024-05-11 10:22:04 (45.7 MB/s) - ‘pedido-2.m4a’ saved [154788/154788]\n",
            "\n"
          ]
        }
      ]
    },
    {
      "cell_type": "code",
      "source": [
        "start_chatbot_pizzaria(context=doc_menu,\n",
        "                       modo=\"audio\",\n",
        "                       audio_diretorio=\"pedido-1.m4a\")"
      ],
      "metadata": {
        "id": "mcQgUjGVLIu6",
        "outputId": "442f9641-a441-48ed-d50d-2f11de46cde3",
        "colab": {
          "base_uri": "https://localhost:8080/",
          "height": 124
        }
      },
      "execution_count": 29,
      "outputs": [
        {
          "output_type": "stream",
          "name": "stdout",
          "text": [
            "ChatBot:\n",
            " Boa noite! Uma pizza Calabresa Grande para viagem.\n",
            "Hoje temos a promoção de 30% de desconto na Calabresa Grande.\n",
            "O valor da pizza com desconto é R$ 28,00.\n",
            "fim do pedido\n",
            "\n"
          ]
        }
      ]
    },
    {
      "cell_type": "code",
      "source": [
        "start_chatbot_pizzaria(context=doc_menu,\n",
        "                       modo=\"audio\",\n",
        "                       audio_diretorio=\"pedido-2.m4a\")"
      ],
      "metadata": {
        "id": "4Z5HaA6cLV6e",
        "outputId": "e460f419-b93e-4db0-813a-67b087bcccc4",
        "colab": {
          "base_uri": "https://localhost:8080/",
          "height": 267
        }
      },
      "execution_count": 30,
      "outputs": [
        {
          "output_type": "stream",
          "name": "stdout",
          "text": [
            "ChatBot:\n",
            " Olá! Tudo bem?\n",
            "\n",
            "Seu pedido é:\n",
            "- Pizza Calabresa Média\n",
            "- Refrigerante 2 Litros\n",
            "\n",
            "O valor da Pizza Calabresa Média com desconto de 30% é R$ 21,00\n",
            "O valor do Refrigerante 2 Litros é R$ 12,00\n",
            "\n",
            "Total do pedido R$ 33,00\n",
            "\n",
            "fim do pedido\n",
            "\n"
          ]
        }
      ]
    },
    {
      "cell_type": "code",
      "source": [],
      "metadata": {
        "id": "A_F96o7LLcmG"
      },
      "execution_count": null,
      "outputs": []
    }
  ]
}