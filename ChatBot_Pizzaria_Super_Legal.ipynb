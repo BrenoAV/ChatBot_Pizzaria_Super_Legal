{
  "nbformat": 4,
  "nbformat_minor": 0,
  "metadata": {
    "colab": {
      "provenance": [],
      "authorship_tag": "ABX9TyOWTLJ4mFkw5uLAgMnTK0hg",
      "include_colab_link": true
    },
    "kernelspec": {
      "name": "python3",
      "display_name": "Python 3"
    },
    "language_info": {
      "name": "python"
    }
  },
  "cells": [
    {
      "cell_type": "markdown",
      "metadata": {
        "id": "view-in-github",
        "colab_type": "text"
      },
      "source": [
        "<a href=\"https://colab.research.google.com/github/BrenoAV/ChatBot_Pizzaria_Super_Legal/blob/main/ChatBot_Pizzaria_Super_Legal.ipynb\" target=\"_parent\"><img src=\"https://colab.research.google.com/assets/colab-badge.svg\" alt=\"Open In Colab\"/></a>"
      ]
    },
    {
      "cell_type": "code",
      "source": [
        "!pip install -q -U google-generativeai"
      ],
      "metadata": {
        "colab": {
          "base_uri": "https://localhost:8080/"
        },
        "id": "P9FPzPRzC_9U",
        "outputId": "6b11b081-8a74-4b6b-a651-32ac5e2e7e5c"
      },
      "execution_count": 1,
      "outputs": [
        {
          "output_type": "stream",
          "name": "stdout",
          "text": [
            "\u001b[2K     \u001b[90m━━━━━━━━━━━━━━━━━━━━━━━━━━━━━━━━━━━━━━━━\u001b[0m \u001b[32m433.8/433.8 kB\u001b[0m \u001b[31m4.1 MB/s\u001b[0m eta \u001b[36m0:00:00\u001b[0m\n",
            "\u001b[?25h"
          ]
        }
      ]
    },
    {
      "cell_type": "code",
      "execution_count": 12,
      "metadata": {
        "id": "maMQKX3g9h0N"
      },
      "outputs": [],
      "source": [
        "from datetime import datetime\n",
        "import pytz\n",
        "import numpy as np\n",
        "from numpy.linalg import norm\n",
        "import pandas as pd\n",
        "import google.generativeai as genai\n",
        "from google.colab import userdata\n",
        "import textwrap\n",
        "from IPython.display import display, Markdown, display_markdown\n",
        "\n",
        "GEMINI_KEY = userdata.get(\"GEMINI_KEY\")\n",
        "\n",
        "genai.configure(api_key=GEMINI_KEY)\n",
        "\n",
        "date = datetime.now(pytz.timezone('America/Recife'))"
      ]
    },
    {
      "cell_type": "markdown",
      "source": [
        "# Funções Auxiliares"
      ],
      "metadata": {
        "id": "fBl8cSQYovv5"
      }
    },
    {
      "cell_type": "code",
      "source": [
        "def to_markdown(text: str) -> Markdown:\n",
        "    text = text.replace('•', '  *')\n",
        "    return Markdown(textwrap.indent(text, '> ', predicate=lambda _: True))"
      ],
      "metadata": {
        "id": "JQQtwsgzh1dI"
      },
      "execution_count": 3,
      "outputs": []
    },
    {
      "cell_type": "markdown",
      "source": [
        "Lista todos os modelos de geração de conteúdo"
      ],
      "metadata": {
        "id": "k2ctu0JHe7do"
      }
    },
    {
      "cell_type": "code",
      "source": [
        "for m in genai.list_models():\n",
        "    if \"generateContent\" in m.supported_generation_methods:\n",
        "        print(m.name)"
      ],
      "metadata": {
        "colab": {
          "base_uri": "https://localhost:8080/",
          "height": 142
        },
        "id": "nPCa75hdfAug",
        "outputId": "da6b6243-2c0e-4f2d-e3b6-c1d1369a88e0"
      },
      "execution_count": 4,
      "outputs": [
        {
          "output_type": "stream",
          "name": "stdout",
          "text": [
            "models/gemini-1.0-pro\n",
            "models/gemini-1.0-pro-001\n",
            "models/gemini-1.0-pro-latest\n",
            "models/gemini-1.0-pro-vision-latest\n",
            "models/gemini-1.5-pro-latest\n",
            "models/gemini-pro\n",
            "models/gemini-pro-vision\n"
          ]
        }
      ]
    },
    {
      "cell_type": "markdown",
      "source": [
        "# Documentos"
      ],
      "metadata": {
        "id": "NizJMlNMfC3b"
      }
    },
    {
      "cell_type": "code",
      "source": [
        "doc_menu = \"\"\"Cardápio da pizzaria super legal com todos os valores de pizzas e bebidas disponíveis na pizzaria.\n",
        "\n",
        "# Pizzas Tradicionais\n",
        "\n",
        "Preços das pizzas tradicionais:\n",
        "  - R$ 20,00 (Pequena - P)\n",
        "  - R$ 30,00 (Média - M)\n",
        "  - R$ 40,00 (Grande - G)\n",
        "\n",
        "01. Mussarela - Molho, mussarela, tomate, orégano e azeitona.\n",
        "02. Dois queijos - Molho, mussarela, catupiry, orégano e azeitona.\n",
        "03. Frango - Molho, frango, mussarela, milho, orégano e azeitona.\n",
        "04. Vegetariana - Molho, milho, ervilha, cebola, tomate, palmito, brócolis, mussarela, orégano e azeitona.\n",
        "05. Nordestina - Molho, carne cebola, mussarela, orégano e azeitona.\n",
        "06. Calabresa - Molho, calabresa, bacon, orégano e azeitona.\n",
        "07. Portuguesa - Molho, presunto, cebola, ervilha, ovos, mussarela, orégano e azeitona.\n",
        "08. Baiana - Molho, calabresa, ovos, pimenta, cebola, mussarela, orégano e azeitona.\n",
        "\n",
        "# Pizzas Especiais\n",
        "\n",
        "Preços das pizzas especiais:\n",
        "  - R$ 25,00 (Pequena - P)\n",
        "  - R$ 35,00 (Média - M)\n",
        "  - R$ 45,00 (Grande - G)\n",
        "\n",
        "01. Camarão - Molho, camarão, mussarela, catupiry, orégano e azeitona.\n",
        "02. Peru - Molho, peito de peru, mussarela, catupiry, orégano e azeitona.\n",
        "03. Brasileira - Molho, peito de peru, parmesão, creme cheese, mussarela, bacon, orégano e azeitona.\n",
        "\n",
        "# Pizzas Doces\n",
        "\n",
        "Preços das pizzas doces:\n",
        "  - R$ 25,00 (Pequena - P)\n",
        "  - R$ 35,00 (Média - M)\n",
        "  - R$ 45,00 (Grande - G)\n",
        "\n",
        "01. Sonho de Valsa - Bombons, creme de leite, leite condensado e cereja.\n",
        "02. Brigadeiro - Chocolate, granulado, leite condensado e cereja.\n",
        "03. Chocovalsa - Chocolate, bombons, leite condensado, creme de leite e cereja.\n",
        "\n",
        "# Bebidas\n",
        "\n",
        "01. Água (R$ 2,00)\n",
        "02. Refrigerante Lata (R$ 5,00)\n",
        "03. Refrigerante 1L (R$ 8,00)\n",
        "04. Refrigerante 2L (R$ 12,00)\n",
        "05. Suco 600 mL (R$ 5,00)\n",
        "\n",
        "# Promoções das Pizzas\n",
        "\n",
        "Promoção: Nas sexta-feiras, sábado e domingo as pizzas tradicionais de Frango e Calabresa estão com um desconto de 30% para todos os tamanhos\n",
        "\n",
        "\"\"\""
      ],
      "metadata": {
        "id": "1VYWEGfQzt9u"
      },
      "execution_count": 5,
      "outputs": []
    },
    {
      "cell_type": "code",
      "source": [
        "generation_config = {\n",
        "    \"temperature\": 0,\n",
        "    \"candidate_count\": 1\n",
        "}\n",
        "\n",
        "gen_model = genai.GenerativeModel(model_name=\"gemini-1.5-pro-latest\",\n",
        "                                  generation_config=generation_config,\n",
        "                                  system_instruction=[\"Aja como um antendente expert de uma pizzaria\",\n",
        "                                                      f\"A data de hoje é {date.date().strftime('%A')}\",\n",
        "                                                      \"Não forneça nenhuma informação que não esteja no contexto da pizzaria, por exemplo, inventar novos tamanhos de pizzas ou inventar novos sabores de pizza.\",\n",
        "                                                      \"Se o cliente não informar o tamanho de todas as pizzas, não finalize o pedido.\",\n",
        "                                                      \"Não invente nada que não esteja disponível na pizzaria, informe para o cliente gentilmente que não existe o requisito.\",\n",
        "                                                      \"Aplique os possíveis descontos das promoções da pizzaria e informe na resposta final o que teve desconto (se aplicável).\",\n",
        "                                                      \"Quando finalizar o pedido simplesmente retorne na última linha: fim do pedido\"\n",
        "                                                      ]\n",
        ")\n"
      ],
      "metadata": {
        "id": "8dHG8GRTqcC9"
      },
      "execution_count": 6,
      "outputs": []
    },
    {
      "cell_type": "markdown",
      "source": [],
      "metadata": {
        "id": "73F5QZExdcUR"
      }
    },
    {
      "cell_type": "code",
      "source": [
        "chatbot_pizzaria = gen_model.start_chat(history=[])\n",
        "\n",
        "pedido = input(\"Por favor, informe seu pedido (digite 'sair' para finalizar o antendimento)\\nComando: \")\n",
        "fim_do_pedido = None\n",
        "\n",
        "while True:\n",
        "    prompt = (\"O contexto da pizzaria é:\\n\\n\"\n",
        "              \"---\"\n",
        "              f\"{doc_menu}\\n\\n\"\n",
        "              \"---\"\n",
        "              f\"Cliente: {pedido}\\n\"\n",
        "              )\n",
        "    response = chatbot_pizzaria.send_message(prompt)\n",
        "    print(\"ChatBot:\\n\\n\", response.text)\n",
        "    print(\"-\"*60)\n",
        "    fim_do_pedido = response.text.split(\"\\n\")[-2]\n",
        "    if fim_do_pedido == \"fim do pedido\":\n",
        "        break\n",
        "    pedido = input(\"Comando: \")\n",
        "    print(\"-\"*60)\n",
        "    if pedido.lower().strip() == \"sair\":\n",
        "        break\n",
        ""
      ],
      "metadata": {
        "id": "tzobXxgbsMsW",
        "outputId": "737ac8ca-455e-4271-fe05-6b0713f2d730",
        "colab": {
          "base_uri": "https://localhost:8080/",
          "height": 303
        }
      },
      "execution_count": 7,
      "outputs": [
        {
          "output_type": "stream",
          "name": "stdout",
          "text": [
            "Por favor, informe seu pedido (digite 'sair' para finalizar o antendimento)\n",
            "Comando: Uma pizza grande de calabresa\n",
            "ChatBot:\n",
            "\n",
            " Certo, uma pizza grande de calabresa. Qual o sabor da próxima pizza? \n",
            "\n",
            "------------------------------------------------------------\n",
            "Comando: Somente isso\n",
            "------------------------------------------------------------\n",
            "ChatBot:\n",
            "\n",
            " Certo, uma pizza grande de calabresa por R$ 28,00 (com desconto de 30%).\n",
            "\n",
            "fim do pedido\n",
            "\n",
            "------------------------------------------------------------\n"
          ]
        }
      ]
    },
    {
      "cell_type": "markdown",
      "source": [
        "# Áudios Prompts"
      ],
      "metadata": {
        "id": "og7X--orftHl"
      }
    },
    {
      "cell_type": "code",
      "source": [
        "audio_file = genai.upload_file(path=\"pedido1.m4a\")\n",
        "prompt = (\"O contexto da pizzaria é:\\n\"\n",
        "         f\"{retrieval}\\n\"\n",
        "          \"Forneça o resumo do pedido discriminado. Baseado no áudio.\")\n",
        "\n",
        "response = gen_model.generate_content([prompt, audio_file])\n",
        "\n",
        "print(response.text)"
      ],
      "metadata": {
        "id": "B1K1zVhbPUn_",
        "outputId": "2d029ab1-c0c5-4736-83c4-ae1e59372d4c",
        "colab": {
          "base_uri": "https://localhost:8080/",
          "height": 383
        }
      },
      "execution_count": 10,
      "outputs": [
        {
          "output_type": "error",
          "ename": "FileNotFoundError",
          "evalue": "[Errno 2] No such file or directory: 'pedido1.m4a'",
          "traceback": [
            "\u001b[0;31m---------------------------------------------------------------------------\u001b[0m",
            "\u001b[0;31mFileNotFoundError\u001b[0m                         Traceback (most recent call last)",
            "\u001b[0;32m<ipython-input-10-f16c5a0ffeb6>\u001b[0m in \u001b[0;36m<cell line: 1>\u001b[0;34m()\u001b[0m\n\u001b[0;32m----> 1\u001b[0;31m \u001b[0maudio_file\u001b[0m \u001b[0;34m=\u001b[0m \u001b[0mgenai\u001b[0m\u001b[0;34m.\u001b[0m\u001b[0mupload_file\u001b[0m\u001b[0;34m(\u001b[0m\u001b[0mpath\u001b[0m\u001b[0;34m=\u001b[0m\u001b[0;34m\"pedido1.m4a\"\u001b[0m\u001b[0;34m)\u001b[0m\u001b[0;34m\u001b[0m\u001b[0;34m\u001b[0m\u001b[0m\n\u001b[0m\u001b[1;32m      2\u001b[0m prompt = (\"O contexto da pizzaria é:\\n\" \n\u001b[1;32m      3\u001b[0m          \u001b[0;34mf\"{retrieval}\\n\"\u001b[0m\u001b[0;34m\u001b[0m\u001b[0;34m\u001b[0m\u001b[0m\n\u001b[1;32m      4\u001b[0m           \"Forneça o resumo do pedido discriminado. Baseado no áudio.\")\n\u001b[1;32m      5\u001b[0m \u001b[0;34m\u001b[0m\u001b[0m\n",
            "\u001b[0;32m/usr/local/lib/python3.10/dist-packages/google/generativeai/files.py\u001b[0m in \u001b[0;36mupload_file\u001b[0;34m(path, mime_type, name, display_name)\u001b[0m\n\u001b[1;32m     50\u001b[0m         \u001b[0mdisplay_name\u001b[0m \u001b[0;34m=\u001b[0m \u001b[0mpath\u001b[0m\u001b[0;34m.\u001b[0m\u001b[0mname\u001b[0m\u001b[0;34m\u001b[0m\u001b[0;34m\u001b[0m\u001b[0m\n\u001b[1;32m     51\u001b[0m \u001b[0;34m\u001b[0m\u001b[0m\n\u001b[0;32m---> 52\u001b[0;31m     response = client.create_file(\n\u001b[0m\u001b[1;32m     53\u001b[0m         \u001b[0mpath\u001b[0m\u001b[0;34m=\u001b[0m\u001b[0mpath\u001b[0m\u001b[0;34m,\u001b[0m \u001b[0mmime_type\u001b[0m\u001b[0;34m=\u001b[0m\u001b[0mmime_type\u001b[0m\u001b[0;34m,\u001b[0m \u001b[0mname\u001b[0m\u001b[0;34m=\u001b[0m\u001b[0mname\u001b[0m\u001b[0;34m,\u001b[0m \u001b[0mdisplay_name\u001b[0m\u001b[0;34m=\u001b[0m\u001b[0mdisplay_name\u001b[0m\u001b[0;34m\u001b[0m\u001b[0;34m\u001b[0m\u001b[0m\n\u001b[1;32m     54\u001b[0m     )\n",
            "\u001b[0;32m/usr/local/lib/python3.10/dist-packages/google/generativeai/client.py\u001b[0m in \u001b[0;36mcreate_file\u001b[0;34m(self, path, mime_type, name, display_name)\u001b[0m\n\u001b[1;32m     70\u001b[0m             \u001b[0mfile\u001b[0m\u001b[0;34m[\u001b[0m\u001b[0;34m\"displayName\"\u001b[0m\u001b[0;34m]\u001b[0m \u001b[0;34m=\u001b[0m \u001b[0mdisplay_name\u001b[0m\u001b[0;34m\u001b[0m\u001b[0;34m\u001b[0m\u001b[0m\n\u001b[1;32m     71\u001b[0m \u001b[0;34m\u001b[0m\u001b[0m\n\u001b[0;32m---> 72\u001b[0;31m         \u001b[0mmedia\u001b[0m \u001b[0;34m=\u001b[0m \u001b[0mgoogleapiclient\u001b[0m\u001b[0;34m.\u001b[0m\u001b[0mhttp\u001b[0m\u001b[0;34m.\u001b[0m\u001b[0mMediaFileUpload\u001b[0m\u001b[0;34m(\u001b[0m\u001b[0mfilename\u001b[0m\u001b[0;34m=\u001b[0m\u001b[0mpath\u001b[0m\u001b[0;34m,\u001b[0m \u001b[0mmimetype\u001b[0m\u001b[0;34m=\u001b[0m\u001b[0mmime_type\u001b[0m\u001b[0;34m)\u001b[0m\u001b[0;34m\u001b[0m\u001b[0;34m\u001b[0m\u001b[0m\n\u001b[0m\u001b[1;32m     73\u001b[0m         \u001b[0mrequest\u001b[0m \u001b[0;34m=\u001b[0m \u001b[0mself\u001b[0m\u001b[0;34m.\u001b[0m\u001b[0m_discovery_api\u001b[0m\u001b[0;34m.\u001b[0m\u001b[0mmedia\u001b[0m\u001b[0;34m(\u001b[0m\u001b[0;34m)\u001b[0m\u001b[0;34m.\u001b[0m\u001b[0mupload\u001b[0m\u001b[0;34m(\u001b[0m\u001b[0mbody\u001b[0m\u001b[0;34m=\u001b[0m\u001b[0;34m{\u001b[0m\u001b[0;34m\"file\"\u001b[0m\u001b[0;34m:\u001b[0m \u001b[0mfile\u001b[0m\u001b[0;34m}\u001b[0m\u001b[0;34m,\u001b[0m \u001b[0mmedia_body\u001b[0m\u001b[0;34m=\u001b[0m\u001b[0mmedia\u001b[0m\u001b[0;34m)\u001b[0m\u001b[0;34m\u001b[0m\u001b[0;34m\u001b[0m\u001b[0m\n\u001b[1;32m     74\u001b[0m         \u001b[0mresult\u001b[0m \u001b[0;34m=\u001b[0m \u001b[0mrequest\u001b[0m\u001b[0;34m.\u001b[0m\u001b[0mexecute\u001b[0m\u001b[0;34m(\u001b[0m\u001b[0;34m)\u001b[0m\u001b[0;34m\u001b[0m\u001b[0;34m\u001b[0m\u001b[0m\n",
            "\u001b[0;32m/usr/local/lib/python3.10/dist-packages/googleapiclient/_helpers.py\u001b[0m in \u001b[0;36mpositional_wrapper\u001b[0;34m(*args, **kwargs)\u001b[0m\n\u001b[1;32m    128\u001b[0m                 \u001b[0;32melif\u001b[0m \u001b[0mpositional_parameters_enforcement\u001b[0m \u001b[0;34m==\u001b[0m \u001b[0mPOSITIONAL_WARNING\u001b[0m\u001b[0;34m:\u001b[0m\u001b[0;34m\u001b[0m\u001b[0;34m\u001b[0m\u001b[0m\n\u001b[1;32m    129\u001b[0m                     \u001b[0mlogger\u001b[0m\u001b[0;34m.\u001b[0m\u001b[0mwarning\u001b[0m\u001b[0;34m(\u001b[0m\u001b[0mmessage\u001b[0m\u001b[0;34m)\u001b[0m\u001b[0;34m\u001b[0m\u001b[0;34m\u001b[0m\u001b[0m\n\u001b[0;32m--> 130\u001b[0;31m             \u001b[0;32mreturn\u001b[0m \u001b[0mwrapped\u001b[0m\u001b[0;34m(\u001b[0m\u001b[0;34m*\u001b[0m\u001b[0margs\u001b[0m\u001b[0;34m,\u001b[0m \u001b[0;34m**\u001b[0m\u001b[0mkwargs\u001b[0m\u001b[0;34m)\u001b[0m\u001b[0;34m\u001b[0m\u001b[0;34m\u001b[0m\u001b[0m\n\u001b[0m\u001b[1;32m    131\u001b[0m \u001b[0;34m\u001b[0m\u001b[0m\n\u001b[1;32m    132\u001b[0m         \u001b[0;32mreturn\u001b[0m \u001b[0mpositional_wrapper\u001b[0m\u001b[0;34m\u001b[0m\u001b[0;34m\u001b[0m\u001b[0m\n",
            "\u001b[0;32m/usr/local/lib/python3.10/dist-packages/googleapiclient/http.py\u001b[0m in \u001b[0;36m__init__\u001b[0;34m(self, filename, mimetype, chunksize, resumable)\u001b[0m\n\u001b[1;32m    592\u001b[0m         \u001b[0mself\u001b[0m\u001b[0;34m.\u001b[0m\u001b[0m_fd\u001b[0m \u001b[0;34m=\u001b[0m \u001b[0;32mNone\u001b[0m\u001b[0;34m\u001b[0m\u001b[0;34m\u001b[0m\u001b[0m\n\u001b[1;32m    593\u001b[0m         \u001b[0mself\u001b[0m\u001b[0;34m.\u001b[0m\u001b[0m_filename\u001b[0m \u001b[0;34m=\u001b[0m \u001b[0mfilename\u001b[0m\u001b[0;34m\u001b[0m\u001b[0;34m\u001b[0m\u001b[0m\n\u001b[0;32m--> 594\u001b[0;31m         \u001b[0mself\u001b[0m\u001b[0;34m.\u001b[0m\u001b[0m_fd\u001b[0m \u001b[0;34m=\u001b[0m \u001b[0mopen\u001b[0m\u001b[0;34m(\u001b[0m\u001b[0mself\u001b[0m\u001b[0;34m.\u001b[0m\u001b[0m_filename\u001b[0m\u001b[0;34m,\u001b[0m \u001b[0;34m\"rb\"\u001b[0m\u001b[0;34m)\u001b[0m\u001b[0;34m\u001b[0m\u001b[0;34m\u001b[0m\u001b[0m\n\u001b[0m\u001b[1;32m    595\u001b[0m         \u001b[0;32mif\u001b[0m \u001b[0mmimetype\u001b[0m \u001b[0;32mis\u001b[0m \u001b[0;32mNone\u001b[0m\u001b[0;34m:\u001b[0m\u001b[0;34m\u001b[0m\u001b[0;34m\u001b[0m\u001b[0m\n\u001b[1;32m    596\u001b[0m             \u001b[0;31m# No mimetype provided, make a guess.\u001b[0m\u001b[0;34m\u001b[0m\u001b[0;34m\u001b[0m\u001b[0m\n",
            "\u001b[0;31mFileNotFoundError\u001b[0m: [Errno 2] No such file or directory: 'pedido1.m4a'"
          ]
        }
      ]
    }
  ]
}